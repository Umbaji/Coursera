{
 "cells": [
  {
   "cell_type": "code",
   "execution_count": 3,
   "id": "32bebb2b",
   "metadata": {},
   "outputs": [],
   "source": [
    "from PIL import Image\n",
    "import numpy as np"
   ]
  },
  {
   "cell_type": "code",
   "execution_count": 10,
   "id": "48c971e7",
   "metadata": {},
   "outputs": [],
   "source": [
    "img_size = 400\n",
    "content_image = np.array(Image.open(\"images/my_Content.jpg\").resize((img_size, img_size)))"
   ]
  },
  {
   "cell_type": "code",
   "execution_count": 11,
   "id": "c84b7292",
   "metadata": {},
   "outputs": [
    {
     "data": {
      "text/plain": [
       "(400, 400, 3)"
      ]
     },
     "execution_count": 11,
     "metadata": {},
     "output_type": "execute_result"
    }
   ],
   "source": [
    "content_image.shape"
   ]
  },
  {
   "cell_type": "code",
   "execution_count": 7,
   "id": "b0b04383",
   "metadata": {},
   "outputs": [
    {
     "name": "stdout",
     "output_type": "stream",
     "text": [
      "(400, 400, 4)\n"
     ]
    }
   ],
   "source": [
    "print(content_image.shape)"
   ]
  },
  {
   "cell_type": "code",
   "execution_count": null,
   "id": "9dd9bf8b",
   "metadata": {},
   "outputs": [],
   "source": []
  }
 ],
 "metadata": {
  "kernelspec": {
   "display_name": "Python 3 (ipykernel)",
   "language": "python",
   "name": "python3"
  },
  "language_info": {
   "codemirror_mode": {
    "name": "ipython",
    "version": 3
   },
   "file_extension": ".py",
   "mimetype": "text/x-python",
   "name": "python",
   "nbconvert_exporter": "python",
   "pygments_lexer": "ipython3",
   "version": "3.10.5"
  }
 },
 "nbformat": 4,
 "nbformat_minor": 5
}
